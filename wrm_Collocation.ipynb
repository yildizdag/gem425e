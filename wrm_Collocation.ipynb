{
 "cells": [
  {
   "cell_type": "markdown",
   "id": "441887c9-78e5-4026-bff3-cfdd4f0c7b37",
   "metadata": {},
   "source": [
    "## WEIGHTED RESIDUAL METHODS"
   ]
  },
  {
   "cell_type": "markdown",
   "id": "f2029268-90a5-43d9-a91e-e8b920cf987d",
   "metadata": {},
   "source": [
    "### Collocation Method"
   ]
  },
  {
   "cell_type": "markdown",
   "id": "776b4c53-2218-4187-a0c9-6a25414ab49d",
   "metadata": {},
   "source": [
    "We seek an approximate solution $u_{app}(x) = \\sum_{j=1}^{n} a_i \\phi_i(x)$ to a differential equation\n",
    "\n",
    "$$ \\mathcal{L}[u] = f \\quad \\text{in } \\Omega, \\qquad \\mathcal{B}[u] = 0 \\ \\text{on } \\partial\\Omega $$.\n",
    "\n",
    "\n",
    "The **residual** is\n",
    "\n",
    "$$ R(x; \\mathbf{a}) = \\mathcal{L}[u_{app}](x) - f(x). $$\n",
    "\n",
    "In the **collocation method**, the residual is forced to vanish at selected points (called *collocation points*) $\\{x_i\\}_{i=1}^{n}:\n",
    " R(x_i; \\mathbf{a}) = 0, \\qquad i = 1, 2, \\dots, n.$\n",
    "\n",
    "This gives a linear algebraic system\n",
    "\n",
    "$$ \\underbrace{\\big[\\mathcal{L}\\phi_j(x_i)\\big]_{i,j=1}^{n}}_{\\mathbf{A}}\n",
    "\\,\n",
    "\\mathbf{a}\n",
    "=\n",
    "\\underbrace{[\\,f(x_i)\\,]_{i=1}^{n}}_{\\mathbf{r}},\n",
    "\\quad \\Rightarrow \\quad\n",
    "\\mathbf{a} = \\mathbf{A}^{-1}\\mathbf{r}.\n",
    "$$"
   ]
  },
  {
   "cell_type": "markdown",
   "id": "066cf29b-c38b-4d8f-9180-a286ecb6b756",
   "metadata": {},
   "source": [
    "### Example\n",
    "\n",
    "Apply collocation method on [0,1]:\n",
    "\n",
    "$$ u'' + u = x, \\qquad u(0)=0,\\; u(1)=0. $$"
   ]
  },
  {
   "cell_type": "code",
   "execution_count": 1,
   "id": "21f5bf28-adb9-4bed-ae0a-51ba0a576320",
   "metadata": {},
   "outputs": [],
   "source": [
    "import sympy\n",
    "from sympy import symbols\n",
    "from sympy.plotting import plot"
   ]
  },
  {
   "cell_type": "code",
   "execution_count": 39,
   "id": "41deff13-7f46-415b-99ed-4fdd46ad834a",
   "metadata": {},
   "outputs": [],
   "source": [
    "x = symbols('x')\n",
    "L = 1"
   ]
  },
  {
   "cell_type": "code",
   "execution_count": 41,
   "id": "3a68bf0b-d946-492f-b59e-ae3399be729b",
   "metadata": {},
   "outputs": [],
   "source": [
    "a0, a1, a2 = symbols('a0 a1 a2')\n",
    "phi0, phi1, phi2 = symbols('phi0 phi1 phi2')"
   ]
  },
  {
   "cell_type": "code",
   "execution_count": 43,
   "id": "cfc04b44-e414-4061-b1f0-1d7dd77e2ebd",
   "metadata": {},
   "outputs": [],
   "source": [
    "phi0 = 1\n",
    "phi1 = x\n",
    "phi2 = x**2"
   ]
  },
  {
   "cell_type": "code",
   "execution_count": 45,
   "id": "e094e4cf-b31a-4aac-95b5-e69739daa7ad",
   "metadata": {
    "scrolled": true
   },
   "outputs": [],
   "source": [
    "u_app = a0*phi0 + a1*phi1 + a2*phi2"
   ]
  },
  {
   "cell_type": "code",
   "execution_count": 47,
   "id": "21628660-aaa7-4e94-a889-70c5aebeea68",
   "metadata": {},
   "outputs": [],
   "source": [
    "BC1 = u_app.subs(x,0)\n",
    "BC2 = u_app.subs(x,1)"
   ]
  },
  {
   "cell_type": "code",
   "execution_count": 49,
   "id": "244a6d71-81b7-44ad-9d6c-0f97f3fc66e4",
   "metadata": {},
   "outputs": [
    {
     "data": {
      "text/latex": [
       "$\\displaystyle a_{0} + a_{1} x + a_{2} x^{2}$"
      ],
      "text/plain": [
       "a0 + a1*x + a2*x**2"
      ]
     },
     "execution_count": 49,
     "metadata": {},
     "output_type": "execute_result"
    }
   ],
   "source": [
    "u_app"
   ]
  },
  {
   "cell_type": "code",
   "execution_count": 51,
   "id": "5fdd89e4-b939-41c0-b3e5-0a8f05324b57",
   "metadata": {},
   "outputs": [],
   "source": [
    "BC_sol = sympy.solve([BC1,BC2],[a0,a1])"
   ]
  },
  {
   "cell_type": "code",
   "execution_count": 53,
   "id": "6a7082c1-4984-45f7-9290-7c425f67131a",
   "metadata": {},
   "outputs": [
    {
     "data": {
      "text/plain": [
       "{a0: 0, a1: -a2}"
      ]
     },
     "execution_count": 53,
     "metadata": {},
     "output_type": "execute_result"
    }
   ],
   "source": [
    "BC_sol"
   ]
  },
  {
   "cell_type": "code",
   "execution_count": 55,
   "id": "0272ef5b-7e94-45e3-81fb-709e88d6315c",
   "metadata": {},
   "outputs": [],
   "source": [
    "u_app = u_app.subs(a0,BC_sol[a0])\n",
    "u_app = u_app.subs(a1,BC_sol[a1])"
   ]
  },
  {
   "cell_type": "code",
   "execution_count": 57,
   "id": "930bc836-d2d9-42e7-9452-f07c7f06a572",
   "metadata": {},
   "outputs": [
    {
     "data": {
      "text/latex": [
       "$\\displaystyle a_{2} x^{2} - a_{2} x$"
      ],
      "text/plain": [
       "a2*x**2 - a2*x"
      ]
     },
     "execution_count": 57,
     "metadata": {},
     "output_type": "execute_result"
    }
   ],
   "source": [
    "u_app"
   ]
  },
  {
   "cell_type": "code",
   "execution_count": 59,
   "id": "7cce0f47-7b8f-40e9-82da-c91c7a150a41",
   "metadata": {},
   "outputs": [],
   "source": [
    "LHS1 = sympy.diff(sympy.diff(u_app,x),x).subs(x,1/2)+u_app.subs(x,1/2)-1/2"
   ]
  },
  {
   "cell_type": "code",
   "execution_count": 61,
   "id": "e5662824-f4f8-4217-9e3d-8051b429c18d",
   "metadata": {},
   "outputs": [],
   "source": [
    "eq_sol = sympy.solve([LHS1],[a2])"
   ]
  },
  {
   "cell_type": "code",
   "execution_count": 63,
   "id": "7238c691-7328-4860-a0ba-1559779178ef",
   "metadata": {},
   "outputs": [
    {
     "data": {
      "text/plain": [
       "{a2: 0.285714285714286}"
      ]
     },
     "execution_count": 63,
     "metadata": {},
     "output_type": "execute_result"
    }
   ],
   "source": [
    "eq_sol"
   ]
  },
  {
   "cell_type": "code",
   "execution_count": 65,
   "id": "01540ba4-906b-4712-900f-2581230dc220",
   "metadata": {},
   "outputs": [],
   "source": [
    "u_app = u_app.subs(a2,eq_sol[a2])"
   ]
  },
  {
   "cell_type": "code",
   "execution_count": 67,
   "id": "56e6fb80-4875-4109-9231-bace8642b08c",
   "metadata": {},
   "outputs": [
    {
     "data": {
      "text/latex": [
       "$\\displaystyle 0.285714285714286 x^{2} - 0.285714285714286 x$"
      ],
      "text/plain": [
       "0.285714285714286*x**2 - 0.285714285714286*x"
      ]
     },
     "execution_count": 67,
     "metadata": {},
     "output_type": "execute_result"
    }
   ],
   "source": [
    "u_app"
   ]
  },
  {
   "cell_type": "code",
   "execution_count": 69,
   "id": "4a3b5cf7-afd0-40da-9d18-a5b112c54f73",
   "metadata": {},
   "outputs": [],
   "source": [
    "from sympy import symbols, Function, dsolve\n",
    "import sympy\n",
    "import matplotlib.pyplot as plt\n",
    "x = symbols('x')\n",
    "u_true = Function('u')(x)"
   ]
  },
  {
   "cell_type": "code",
   "execution_count": 71,
   "id": "1166de87-ccb2-4a9e-a47b-247151ccb2a0",
   "metadata": {},
   "outputs": [],
   "source": [
    "up = u_true.diff(x)\n",
    "upp = up.diff(x)\n",
    "eqn = upp + u_true - x"
   ]
  },
  {
   "cell_type": "code",
   "execution_count": 73,
   "id": "6d81720f-8ea9-4656-bf12-926be3d7243b",
   "metadata": {},
   "outputs": [],
   "source": [
    "u_true = dsolve(eqn, ics={u_true.subs(x,0):0, u_true.subs(x,L):0})"
   ]
  },
  {
   "cell_type": "code",
   "execution_count": 75,
   "id": "38ea0bbb-3066-443c-bdd0-e44e62dca013",
   "metadata": {},
   "outputs": [
    {
     "data": {
      "text/latex": [
       "$\\displaystyle u{\\left(x \\right)} = x - \\frac{\\sin{\\left(x \\right)}}{\\sin{\\left(1 \\right)}}$"
      ],
      "text/plain": [
       "Eq(u(x), x - sin(x)/sin(1))"
      ]
     },
     "execution_count": 75,
     "metadata": {},
     "output_type": "execute_result"
    }
   ],
   "source": [
    "u_true"
   ]
  },
  {
   "cell_type": "code",
   "execution_count": 77,
   "id": "b1a51999-e048-47c9-bb1f-776a3110681f",
   "metadata": {},
   "outputs": [
    {
     "data": {
      "image/png": "[encoded data removed]",
      "text/plain": [
       "<Figure size 640x480 with 1 Axes>"
      ]
     },
     "metadata": {},
     "output_type": "display_data"
    }
   ],
   "source": [
    "plt = plot( (u_app, (x, 0, L)), (u_true.rhs, (x, 0, L)), show=False)\n",
    "#\n",
    "plt[0].line_color = 'red'\n",
    "plt[0].label = '$u_{app}(x)$'\n",
    "plt[1].line_color = 'blue'\n",
    "plt[1].label = 'Exact $u(x)$'\n",
    "#\n",
    "plt.legend = True\n",
    "plt.title = 'Exact vs Collocation Solution'\n",
    "plt.xlabel = 'x'\n",
    "plt.ylabel = 'u(x)'\n",
    "plt.show()"
   ]
  },
  {
   "cell_type": "code",
   "execution_count": null,
   "id": "a0152db8-d936-468d-8b44-1a1d7a5543d2",
   "metadata": {},
   "outputs": [],
   "source": []
  }
 ],
 "metadata": {
  "kernelspec": {
   "display_name": "Python 3 (ipykernel)",
   "language": "python",
   "name": "python3"
  },
  "language_info": {
   "codemirror_mode": {
    "name": "ipython",
    "version": 3
   },
   "file_extension": ".py",
   "mimetype": "text/x-python",
   "name": "python",
   "nbconvert_exporter": "python",
   "pygments_lexer": "ipython3",
   "version": "3.12.4"
  }
 },
 "nbformat": 4,
 "nbformat_minor": 5
}
