{
 "cells": [
  {
   "cell_type": "markdown",
   "id": "441887c9-78e5-4026-bff3-cfdd4f0c7b37",
   "metadata": {},
   "source": [
    "### WEIGHTED RESIDUAL METHODS"
   ]
  },
  {
   "cell_type": "markdown",
   "id": "f2029268-90a5-43d9-a91e-e8b920cf987d",
   "metadata": {},
   "source": [
    "### COLLOCATION METHOD"
   ]
  },
  {
   "cell_type": "markdown",
   "id": "776b4c53-2218-4187-a0c9-6a25414ab49d",
   "metadata": {},
   "source": [
    "We seek an approximate solution $u_{app}(x) = \\sum_{i=1}^{n} a_i \\phi_i(x)$ to a differential equation\n",
    "\n",
    "$$ \\mathcal{L}[u] = f \\quad \\text{in } \\Omega, \\qquad \\mathcal{B}[u] = 0 \\ \\text{on } \\partial\\Omega $$.\n",
    "\n",
    "\n",
    "The **residual** is\n",
    "\n",
    "$$ R(x; \\mathbf{a}) = \\mathcal{L}[u_{app}](x) - f(x). $$\n",
    "\n",
    "The **least-squares** method chooses $\\mathbf a$ to minimize the residual energy\n",
    "\n",
    "$$\n",
    "J(\\mathbf a)=\\int_\\Omega R(x;\\mathbf a)^2\\,dx.\n",
    "$$\n",
    "\n",
    "Stationarity $\\partial J/\\partial a_i=0$ gives the equations\n",
    "\n",
    "$$ \\int_\\Omega R\\,\\frac{\\partial R}{\\partial a_i}\\,dx=0 \\quad\\Rightarrow\\quad \\sum_{j=1}^{n} a_j \\int_\\Omega \\big(\\mathcal L\\phi_j\\big)\\big(\\mathcal L\\phi_i\\big)\\,dx = \\int_\\Omega f\\,\\mathcal L\\phi_i\\,dx,\\qquad i=1,\\dots,n. $$\n",
    "\n",
    "Define $$ A_{ij}=\\int_\\Omega \\big(\\mathcal L\\phi_j\\big)\\big(\\mathcal L\\phi_i\\big)\\,dx,\\qquad\n",
    "r_i=\\int_\\Omega f\\,\\mathcal L\\phi_i\\,dx, $$\n",
    "then solve the system \n",
    "\n",
    "$$ \\mathbf A\\,\\mathbf a = \\mathbf r $$.\n",
    "\n",
    "\n",
    "**Boundary conditions:** If $\\phi_j$ already satisfy the essential BCs, they are enforced strongly. Otherwise, enforce BCs by augmentation (e.g., penalty, Lagrange multipliers) or build them into $\\phi_j$.\n",
    "\n",
    "---\n",
    "\n",
    "### Example\n",
    "\n",
    "Apply the least squares method on [0,1]:\n",
    "\n",
    "$$ u'' + u = x, \\qquad u(0)=0,\\; u(1)=0. $$"
   ]
  },
  {
   "cell_type": "code",
   "execution_count": 1,
   "id": "21f5bf28-adb9-4bed-ae0a-51ba0a576320",
   "metadata": {},
   "outputs": [],
   "source": [
    "import sympy\n",
    "from sympy import symbols\n",
    "from sympy.plotting import plot"
   ]
  },
  {
   "cell_type": "code",
   "execution_count": 3,
   "id": "41deff13-7f46-415b-99ed-4fdd46ad834a",
   "metadata": {},
   "outputs": [],
   "source": [
    "x = symbols('x')\n",
    "L = 1"
   ]
  },
  {
   "cell_type": "code",
   "execution_count": 5,
   "id": "3a68bf0b-d946-492f-b59e-ae3399be729b",
   "metadata": {},
   "outputs": [],
   "source": [
    "a0, a1, a2 = symbols('a0 a1 a2')\n",
    "phi0, phi1, phi2 = symbols('phi0 phi1 phi2')"
   ]
  },
  {
   "cell_type": "code",
   "execution_count": 7,
   "id": "cfc04b44-e414-4061-b1f0-1d7dd77e2ebd",
   "metadata": {},
   "outputs": [],
   "source": [
    "phi0 = 1\n",
    "phi1 = x\n",
    "phi2 = x**2\n",
    "phi3 = x**3"
   ]
  },
  {
   "cell_type": "code",
   "execution_count": 9,
   "id": "e094e4cf-b31a-4aac-95b5-e69739daa7ad",
   "metadata": {
    "scrolled": true
   },
   "outputs": [],
   "source": [
    "u_app = a0*phi0 + a1*phi1 + a2*phi2"
   ]
  },
  {
   "cell_type": "code",
   "execution_count": 11,
   "id": "21628660-aaa7-4e94-a889-70c5aebeea68",
   "metadata": {},
   "outputs": [],
   "source": [
    "BC1 = u_app.subs(x,0)\n",
    "BC2 = u_app.subs(x,1)"
   ]
  },
  {
   "cell_type": "code",
   "execution_count": 13,
   "id": "244a6d71-81b7-44ad-9d6c-0f97f3fc66e4",
   "metadata": {},
   "outputs": [
    {
     "data": {
      "text/latex": [
       "$\\displaystyle a_{0} + a_{1} x + a_{2} x^{2}$"
      ],
      "text/plain": [
       "a0 + a1*x + a2*x**2"
      ]
     },
     "execution_count": 13,
     "metadata": {},
     "output_type": "execute_result"
    }
   ],
   "source": [
    "u_app"
   ]
  },
  {
   "cell_type": "code",
   "execution_count": 15,
   "id": "5fdd89e4-b939-41c0-b3e5-0a8f05324b57",
   "metadata": {},
   "outputs": [],
   "source": [
    "BC_sol = sympy.solve([BC1,BC2],[a0,a1])"
   ]
  },
  {
   "cell_type": "code",
   "execution_count": 17,
   "id": "6a7082c1-4984-45f7-9290-7c425f67131a",
   "metadata": {},
   "outputs": [
    {
     "data": {
      "text/plain": [
       "{a0: 0, a1: -a2}"
      ]
     },
     "execution_count": 17,
     "metadata": {},
     "output_type": "execute_result"
    }
   ],
   "source": [
    "BC_sol"
   ]
  },
  {
   "cell_type": "code",
   "execution_count": 19,
   "id": "0272ef5b-7e94-45e3-81fb-709e88d6315c",
   "metadata": {},
   "outputs": [],
   "source": [
    "u_app = u_app.subs(a0,BC_sol[a0])\n",
    "u_app = u_app.subs(a1,BC_sol[a1])"
   ]
  },
  {
   "cell_type": "code",
   "execution_count": 21,
   "id": "930bc836-d2d9-42e7-9452-f07c7f06a572",
   "metadata": {},
   "outputs": [
    {
     "data": {
      "text/latex": [
       "$\\displaystyle a_{2} x^{2} - a_{2} x$"
      ],
      "text/plain": [
       "a2*x**2 - a2*x"
      ]
     },
     "execution_count": 21,
     "metadata": {},
     "output_type": "execute_result"
    }
   ],
   "source": [
    "u_app"
   ]
  },
  {
   "cell_type": "code",
   "execution_count": 23,
   "id": "7cce0f47-7b8f-40e9-82da-c91c7a150a41",
   "metadata": {},
   "outputs": [],
   "source": [
    "R = sympy.diff(sympy.diff(u_app,x),x)+u_app-x\n",
    "LHS1 = sympy.integrate(sympy.diff(R,a2)*R,(x,0,L))"
   ]
  },
  {
   "cell_type": "code",
   "execution_count": 25,
   "id": "e5662824-f4f8-4217-9e3d-8051b429c18d",
   "metadata": {},
   "outputs": [],
   "source": [
    "eq_sol = sympy.solve([LHS1],[a2])"
   ]
  },
  {
   "cell_type": "code",
   "execution_count": 27,
   "id": "7238c691-7328-4860-a0ba-1559779178ef",
   "metadata": {},
   "outputs": [
    {
     "data": {
      "text/plain": [
       "{a2: 55/202}"
      ]
     },
     "execution_count": 27,
     "metadata": {},
     "output_type": "execute_result"
    }
   ],
   "source": [
    "eq_sol"
   ]
  },
  {
   "cell_type": "code",
   "execution_count": 29,
   "id": "01540ba4-906b-4712-900f-2581230dc220",
   "metadata": {},
   "outputs": [],
   "source": [
    "u_app = u_app.subs(a2,eq_sol[a2])"
   ]
  },
  {
   "cell_type": "code",
   "execution_count": 31,
   "id": "56e6fb80-4875-4109-9231-bace8642b08c",
   "metadata": {},
   "outputs": [
    {
     "data": {
      "text/latex": [
       "$\\displaystyle \\frac{55 x^{2}}{202} - \\frac{55 x}{202}$"
      ],
      "text/plain": [
       "55*x**2/202 - 55*x/202"
      ]
     },
     "execution_count": 31,
     "metadata": {},
     "output_type": "execute_result"
    }
   ],
   "source": [
    "u_app"
   ]
  },
  {
   "cell_type": "code",
   "execution_count": 33,
   "id": "4a3b5cf7-afd0-40da-9d18-a5b112c54f73",
   "metadata": {},
   "outputs": [],
   "source": [
    "from sympy import symbols, Function, dsolve\n",
    "import sympy\n",
    "import matplotlib.pyplot as plt\n",
    "x = symbols('x')\n",
    "u_true = Function('u')(x)"
   ]
  },
  {
   "cell_type": "code",
   "execution_count": 35,
   "id": "1166de87-ccb2-4a9e-a47b-247151ccb2a0",
   "metadata": {},
   "outputs": [],
   "source": [
    "up = u_true.diff(x)\n",
    "upp = up.diff(x)\n",
    "eqn = upp + u_true - x"
   ]
  },
  {
   "cell_type": "code",
   "execution_count": 37,
   "id": "6d81720f-8ea9-4656-bf12-926be3d7243b",
   "metadata": {},
   "outputs": [],
   "source": [
    "u_true = dsolve(eqn, ics={u_true.subs(x,0):0, u_true.subs(x,L):0})"
   ]
  },
  {
   "cell_type": "code",
   "execution_count": 39,
   "id": "b1a51999-e048-47c9-bb1f-776a3110681f",
   "metadata": {},
   "outputs": [
    {
     "data": {
      "image/png": "[encoded data removed]",
      "text/plain": [
       "<Figure size 640x480 with 1 Axes>"
      ]
     },
     "metadata": {},
     "output_type": "display_data"
    }
   ],
   "source": [
    "plt = plot( (u_app, (x, 0, L)), (u_true.rhs, (x, 0, L)), show=False)\n",
    "#\n",
    "plt[0].line_color = 'red'\n",
    "plt[0].label = '$u_{app}(x)$'\n",
    "plt[1].line_color = 'blue'\n",
    "plt[1].label = 'Exact $u(x)$'\n",
    "#\n",
    "plt.legend = True\n",
    "plt.title = 'Exact vs Collocation Solution'\n",
    "plt.xlabel = 'x'\n",
    "plt.ylabel = 'u(x)'\n",
    "plt.show()"
   ]
  },
  {
   "cell_type": "code",
   "execution_count": null,
   "id": "a0152db8-d936-468d-8b44-1a1d7a5543d2",
   "metadata": {},
   "outputs": [],
   "source": []
  }
 ],
 "metadata": {
  "kernelspec": {
   "display_name": "Python 3 (ipykernel)",
   "language": "python",
   "name": "python3"
  },
  "language_info": {
   "codemirror_mode": {
    "name": "ipython",
    "version": 3
   },
   "file_extension": ".py",
   "mimetype": "text/x-python",
   "name": "python",
   "nbconvert_exporter": "python",
   "pygments_lexer": "ipython3",
   "version": "3.12.4"
  }
 },
 "nbformat": 4,
 "nbformat_minor": 5
}
